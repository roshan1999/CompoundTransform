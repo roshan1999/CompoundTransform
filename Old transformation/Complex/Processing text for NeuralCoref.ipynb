{
 "cells": [
  {
   "cell_type": "markdown",
   "metadata": {},
   "source": [
    "# Importing Libraries"
   ]
  },
  {
   "cell_type": "code",
   "execution_count": 2,
   "metadata": {},
   "outputs": [],
   "source": [
    "#importing spacy\n",
    "import spacy\n",
    "import en_core_web_sm\n",
    "nlp = spacy.load('en_core_web_sm')"
   ]
  },
  {
   "cell_type": "code",
   "execution_count": 3,
   "metadata": {},
   "outputs": [],
   "source": [
    "#importing neuralcoref\n",
    "import neuralcoref\n",
    "coref = neuralcoref.NeuralCoref(nlp.vocab)\n",
    "nlp.add_pipe(coref, name='neuralcoref')"
   ]
  },
  {
   "cell_type": "markdown",
   "metadata": {},
   "source": [
    "# 'that'"
   ]
  },
  {
   "cell_type": "code",
   "execution_count": 3,
   "metadata": {},
   "outputs": [],
   "source": [
    "#importing spacy symbols for nouns and verbs\n",
    "from spacy.symbols import nsubj, VERB\n",
    "#function to check whether the sentence contains that followed by a verb\n",
    "def checkThat(text):\n",
    "    doc=nlp(text)\n",
    "    flag=0          #flag to check if 'that' is present in the sentence\n",
    "    v_flag=0        #flag to check if 'that' is immediately followed by a verb\n",
    "    present=False   #flag to indicate whether the sentence falls into the same category\n",
    "    for word in doc:    #passing nlp object as argument\n",
    "        if word.text=='that':\n",
    "            flag=1\n",
    "        elif flag==1 and word.pos==VERB:\n",
    "            present=True\n",
    "            break\n",
    "        else:\n",
    "            flag=0\n",
    "    #print(present)\n",
    "    return present"
   ]
  },
  {
   "cell_type": "code",
   "execution_count": 4,
   "metadata": {},
   "outputs": [],
   "source": [
    "#function to break sentence containing 'that' into simpler sentences\n",
    "def resolveThat(text):\n",
    "    \n",
    "    doc=nlp(text)\n",
    "    #finding all the noun chunks\n",
    "    chunks = list(doc.noun_chunks)\n",
    "    \n",
    "    #finding the noun chunk closest to 'that'\n",
    "    min=-99999\n",
    "\n",
    "    for ner in chunks:\n",
    "        position=text.find(ner.text)\n",
    "        if text.find('that')-position>0:\n",
    "            if position>min:\n",
    "                min=position\n",
    "                f_ner=ner.text\n",
    "    \n",
    "    #breaking into simple sentences\n",
    "    sent1=''\n",
    "    sent2=f_ner\n",
    "    text=text.split()\n",
    "    flag=0\n",
    "    for word in text:\n",
    "        if word!='that' and flag==0:\n",
    "            sent1=sent1+\" \"+word\n",
    "        if word=='that':\n",
    "            sent1=sent1+'.'\n",
    "            flag=1\n",
    "        if word!='that' and flag==1:\n",
    "            sent2=sent2+\" \"+word\n",
    "    sent=sent1+\" \"+sent2\n",
    "    #print(sent)\n",
    "    return sent"
   ]
  },
  {
   "cell_type": "code",
   "execution_count": 5,
   "metadata": {},
   "outputs": [
    {
     "name": "stdout",
     "output_type": "stream",
     "text": [
      " He bought the shoes. the shoes were in the shop window. They were very pretty\n"
     ]
    },
    {
     "data": {
      "text/plain": [
       "[the shoes: [the shoes, the shoes, They]]"
      ]
     },
     "execution_count": 5,
     "metadata": {},
     "output_type": "execute_result"
    }
   ],
   "source": [
    "text='He bought the shoes that were in the shop window. They were very pretty'\n",
    "if checkThat(text)==True:\n",
    "    sent=resolveThat(text)\n",
    "print(sent)\n",
    "doc=nlp(sent)\n",
    "doc._.coref_clusters"
   ]
  },
  {
   "cell_type": "markdown",
   "metadata": {},
   "source": [
    "# Removing some stopwords(Generally,However,So)"
   ]
  },
  {
   "cell_type": "code",
   "execution_count": 6,
   "metadata": {},
   "outputs": [],
   "source": [
    "import string\n",
    "#function to remove the stopwords\n",
    "def remStopwords(text):\n",
    "    stopwords =['So,','Generally,','However,']\n",
    "    text = ' '.join([word for word in text.split() if word not in stopwords]) \n",
    "    return text"
   ]
  },
  {
   "cell_type": "code",
   "execution_count": 7,
   "metadata": {},
   "outputs": [],
   "source": [
    "#function to check the exisence of multiple comma\n",
    "#However it may break sentences conatining multiple items separated with comma\n",
    "def checkMultipleComma(text):\n",
    "    punct_list=[]\n",
    "    for i in text:\n",
    "        if i in string.punctuation:\n",
    "            punct_list.append(i)\n",
    "    #print(punct_list)\n",
    "    if punct_list.count(',')==2:\n",
    "        return True\n",
    "    else:\n",
    "        return False"
   ]
  },
  {
   "cell_type": "code",
   "execution_count": 8,
   "metadata": {},
   "outputs": [],
   "source": [
    "def removeExtraInfo(text):\n",
    "    flag=0\n",
    "    new_text=''\n",
    "    for i in text:\n",
    "        if i==',' and flag==0:\n",
    "            flag=1\n",
    "        elif i==',' and flag==1:\n",
    "            flag=0\n",
    "        elif flag==0:\n",
    "            #print(i)\n",
    "            new_text=new_text+i\n",
    "    return new_text\n"
   ]
  },
  {
   "cell_type": "code",
   "execution_count": 9,
   "metadata": {},
   "outputs": [
    {
     "data": {
      "text/plain": [
       "[swap space: [swap space, its]]"
      ]
     },
     "execution_count": 9,
     "metadata": {},
     "output_type": "execute_result"
    }
   ],
   "source": [
    "text='Generally, swap space is allocated as a chunk of disk, separate from the file system, so that its use is as fast as possible.'\n",
    "text=remStopwords(text)\n",
    "if checkMultipleComma(text)==True:\n",
    "    text=removeExtraInfo(text)\n",
    "doc=nlp(text)\n",
    "doc._.coref_clusters"
   ]
  },
  {
   "cell_type": "markdown",
   "metadata": {},
   "source": [
    "# Resolving 'Because', 'As' ...... in the beginning of the sentnece"
   ]
  },
  {
   "cell_type": "code",
   "execution_count": 10,
   "metadata": {},
   "outputs": [],
   "source": [
    "#function to check if the sentence starts with 'Because','As',etc\n",
    "intro_words=['Because','However','Although','As','After','Awhile']\n",
    "def checkIntroductoryWords(text):\n",
    "    if text==' ':\n",
    "        return False\n",
    "    words=text.split()\n",
    "    #print(words)\n",
    "    if words!=[] and words[0] in intro_words:\n",
    "        return True\n",
    "    else:\n",
    "        return False"
   ]
  },
  {
   "cell_type": "code",
   "execution_count": 11,
   "metadata": {},
   "outputs": [],
   "source": [
    "#function to remove because\n",
    "def remIntroductoryWords(sent):\n",
    "    words=sent.split()\n",
    "    sent=\"\"\n",
    "    for word in words:\n",
    "        if word not in intro_words:\n",
    "            sent=sent+word+\" \"\n",
    "    #print(sent)\n",
    "    text=''\n",
    "    for word in sent:\n",
    "        #print(word)\n",
    "         if word==',':\n",
    "             text=text+'.'\n",
    "         else:\n",
    "             text=text+word\n",
    "    #print(text)\n",
    "    return text"
   ]
  },
  {
   "cell_type": "code",
   "execution_count": 12,
   "metadata": {},
   "outputs": [
    {
     "data": {
      "text/plain": [
       "[my coffee: [my coffee, it]]"
      ]
     },
     "execution_count": 12,
     "metadata": {},
     "output_type": "execute_result"
    }
   ],
   "source": [
    "text='Because my coffee was too cold, I heated it in the microwave. ' \n",
    "if checkIntroductoryWords(text)==True:\n",
    "    text=remIntroductoryWords(text)\n",
    "doc=nlp(text)\n",
    "doc._.coref_clusters"
   ]
  },
  {
   "cell_type": "markdown",
   "metadata": {},
   "source": [
    "# Reading the data and processing it"
   ]
  },
  {
   "cell_type": "code",
   "execution_count": 21,
   "metadata": {},
   "outputs": [],
   "source": [
    "#opening file and reading from it\n",
    "f=open('os_chap1.txt','r')\n",
    "text=f.read()"
   ]
  },
  {
   "cell_type": "code",
   "execution_count": 22,
   "metadata": {},
   "outputs": [],
   "source": [
    "#splitting into paragraphs\n",
    "paras=text.split('\\n')\n",
    "#print(paras)"
   ]
  },
  {
   "cell_type": "code",
   "execution_count": 23,
   "metadata": {
    "scrolled": false
   },
   "outputs": [
    {
     "name": "stdout",
     "output_type": "stream",
     "text": [
      "\n",
      "\n",
      "  An operating system is a program. a program manages a computer’s hardware. It also provides a basis for application programs and acts as an intermediary between the computer user and the computer hardware. An amazing aspect of operating systems is how they vary in accomplishing these tasks. Mainframe operating systems are designed primarily to optimize utilization of hardware. Personal computer (PC) operating systems support complex games and everything in between. Operating systems for mobile com- puters provide an environment in which a user can easily interface with the computer to execute programs. Thus, some operating systems are designed to be convenient, others to be efficient, and others to be some combination of the two.\n",
      "\n",
      "\n",
      " Before we can explore the details of computer system operation, we need to know something about system structure. We thus discuss the basic functions of system startup and storage early in this chapter.  We also describe the basic computer architecture. it makes it possible to write a functional operating system.\n",
      "\n",
      "\n",
      " an operating system is large and complex. it must be created piece by piece . Each of these pieces should be a well-delineated portion of the system, with carefully defined inputs, outputs, and functions. In this chapter, we provide a general overview of the major components of a contemporary computer system as well as the functions provided by the operating system. Additionally, we cover several other topics to help set the stage for the remainder of this text: data structures used in operating systems, computing environments, and open-source operating systems.\n",
      "\n",
      "\n",
      " We begin our discussion by looking at the operating system’s role in the overall computer system. A computer system can be divided roughly into four components: the hardware, the operating system, the application programs, and the users (Figure 1. 1).\n",
      "\n",
      "\n",
      " The hardware —the central processing unit (CPU) and the input/output (I/O) devices —provides the basic computing resources for the system. The application programs —such as word processors, spreadsheets, compilers, and Web browsers— define the ways in which these resources are used to solve users’ computing problems. The operating system controls the hardware and coordinates its use among the various application programs for the various users.\n",
      "\n",
      "\n",
      " We can also view a computer system as consisting of hardware and data. The operating system provides the means for proper use of these resources in the operation of the computer system. An operating system is similar to a government. Like a government, it performs no useful function by itself. It simply provides an environment within which other programs can do useful work.\n",
      "\n",
      "\n",
      " To understand more fully the operating system’s role, we next explore operating systems from two viewpoints: that of the user and that of the system.\n",
      "\n",
      "\n",
      "\n",
      "\n",
      "\n",
      " The user’s view of the computer varies according to the interface being used. Most computer users sit in front of a PC, consisting of a monitor, keyboard, mouse, and system unit. Such a system is designed for one user.\n",
      "\n",
      "\n",
      "\n",
      "\n",
      "\n",
      " to monopolize its resources. The goal is to maximize the work (or play) that the user is performing. In this case with some attention paid to performance and none paid to resource utilization — how various hardware and software resources are shared. Performance is important to the user; but such systems are optimized for the single-user experience rather than the requirements of multiple users.\n",
      "\n",
      "\n",
      " In other cases, a user sits at a terminal connected to a mainframe or a minicomputer. Other users are accessing the same computer through other terminals. These users share resources and may exchange information. The operating system in such cases is designed to maximize resource utilization— to assure that all available CPU time and I/O are used efficiently and that no individual user takes more than her fair share.\n",
      "\n",
      "\n",
      " In still other cases, users sit at workstations connected to networks of other workstations and servers. These users have dedicated resources at their disposal, but they also share resources such as networking and servers, including file, compute, and print servers. Therefore, their operating system is designed to compromise between individual usability and resource utilization. Recently, many varieties of mobile computers, such as smartphones and tablets, have come into fashion. Most mobile computers are standalone units for individual users. Quite often, they are connected to networks through cellular or other wireless technologies. Increasingly, these mobile devices are replacing desktop and laptop computers for people who are primarily interested in using computers for e-mail and web browsing. The user interface for mobile computers generally features a touch screen, where the user interacts with the system by pressing and swiping fingers across the screen rather than using a.\n",
      "\n",
      "\n",
      " physical keyboard and mouse.\n",
      "\n",
      "\n",
      " Some computers have little or no user view. For example but they and their operating systems are designed primarily to run without user intervention.\n",
      "\n",
      "\n",
      " From the computer’s point of view, the operating system is the program most intimately involved with the hardware. In this context, we can view an operating system as a resource allocator.  A computer system has many resources. many resources may be required to solve a problem: CPU time, memory space, file-storage space, I/O devices, and so on. The operating system acts as the manager of these resources. Facing numerous and possibly conflicting requests for resources, the operating system must decide how to allocate them to specific programs and users so that it can operate the computer system efficiently and fairly. we have seen. resource allocation is especially important where many users access the same mainframe or minicomputer .\n",
      "\n",
      "\n",
      " A slightly different view of an operating system emphasizes the need to control the various I/O devices and user programs. An operating system is a control program. A control program manages the execution of user programs to prevent errors and improper use of the computer. It is especially concerned with the operation and control of I/O devices.\n",
      "\n",
      "\n",
      "\n",
      "\n",
      "\n",
      "\n"
     ]
    }
   ],
   "source": [
    "#splitting each para into sentences and processing it\n",
    "from nltk.tokenize import sent_tokenize\n",
    "processed_paras=[]\n",
    "for para in paras:\n",
    "    sentences=para.split('.')\n",
    "    #print(sentences)\n",
    "    print(\"\\n\")\n",
    "    new_para=''\n",
    "    #processing the individual sentences in a paragraph\n",
    "    for text in sentences:\n",
    "        #print(\"1\",text)\n",
    "        if text==\"\\n\" or text=='':\n",
    "            continue\n",
    "        text=remStopwords(text)\n",
    "        if checkThat(text)==True:\n",
    "            text=resolveThat(text)\n",
    "        elif checkMultipleComma(text)==True:\n",
    "            text=removeExtraInfo(text)\n",
    "        elif checkIntroductoryWords(text)==True:\n",
    "            text=remIntroductoryWords(text)\n",
    "        text=text+'.'\n",
    "        new_para=new_para+' '+text\n",
    "    print(new_para)\n",
    "    processed_paras.append(new_para)\n",
    "    #para=new_para"
   ]
  },
  {
   "cell_type": "code",
   "execution_count": 24,
   "metadata": {},
   "outputs": [
    {
     "name": "stdout",
     "output_type": "stream",
     "text": [
      "[a program: [a program, It], operating systems: [operating systems, they]]\n",
      "[we: [we, we, We, We], the basic computer architecture: [the basic computer architecture, it]]\n",
      "[ an operating system: [ an operating system, it, the system], we: [we, we]]\n",
      "[We: [We, our]]\n",
      "[the system: [the system, The operating system, its]]\n",
      "[a computer system: [a computer system, The operating system], An operating system: [An operating system, it, itself, It]]\n",
      "[]\n",
      "[]\n",
      "[]\n",
      "[]\n",
      "[]\n",
      "[Other users: [Other users, These users]]\n",
      "[users: [users, These users, their, they, their], Most mobile computers: [Most mobile computers, they]]\n",
      "[]\n",
      "[ Some computers: [ Some computers, they, their]]\n",
      "[A computer system: [A computer system, The operating system, the operating system, it, the computer system], many resources: [many resources, these resources], numerous and possibly conflicting requests for resources: [numerous and possibly conflicting requests for resources, them]]\n",
      "[]\n",
      "[]\n",
      "[]\n"
     ]
    }
   ],
   "source": [
    "#coref resolution after processing the text\n",
    "full_text=''\n",
    "for para in processed_paras:\n",
    "    #print(para)\n",
    "    full_text=full_text+para\n",
    "    doc=nlp(para)\n",
    "    print(doc._.coref_clusters)\n",
    "    #print(\"\\n\")"
   ]
  },
  {
   "cell_type": "code",
   "execution_count": 25,
   "metadata": {},
   "outputs": [
    {
     "data": {
      "text/plain": [
       "''"
      ]
     },
     "execution_count": 25,
     "metadata": {},
     "output_type": "execute_result"
    }
   ],
   "source": [
    "doc._.coref_resolved"
   ]
  },
  {
   "cell_type": "code",
   "execution_count": 26,
   "metadata": {},
   "outputs": [
    {
     "name": "stdout",
     "output_type": "stream",
     "text": [
      "[a program: [a program, It], operating systems: [operating systems, they], we: [we, we, We, We], this chapter: [this chapter, this chapter], the basic computer architecture: [the basic computer architecture, it], an operating system: [an operating system, it, the system], we: [we, we, We, our], the operating system: [the operating system, the operating system, The operating system, its, The operating system, the operating system, the system], A computer system: [A computer system, the system], An operating system: [An operating system, it, itself, It], Such a system: [Such a system, its], Other users: [Other users, These users, These users, their, they, their], Most mobile computers: [Most mobile computers, they], the system: [the system, the operating system], Some computers: [Some computers, they, their], the computer: [the computer, the computer], A computer system: [A computer system, The operating system, the operating system, it, the computer system], many resources: [many resources, these resources], numerous and possibly conflicting requests for resources: [numerous and possibly conflicting requests for resources, them]]\n"
     ]
    }
   ],
   "source": [
    "doc=nlp(full_text)\n",
    "print(doc._.coref_clusters)"
   ]
  },
  {
   "cell_type": "code",
   "execution_count": 27,
   "metadata": {},
   "outputs": [
    {
     "data": {
      "text/plain": [
       "'  An operating system is a program. a program manages a computer’s hardware. a program also provides a basis for application programs and acts as an intermediary between the computer user and the computer hardware. An amazing aspect of operating systems is how operating systems vary in accomplishing these tasks. Mainframe operating systems are designed primarily to optimize utilization of hardware. Personal computer (PC) operating systems support complex games and everything in between. Operating systems for mobile com- puters provide an environment in which a user can easily interface with the computer to execute programs. Thus, some operating systems are designed to be convenient, others to be efficient, and others to be some combination of the two. Before we can explore the details of computer system operation, we need to know something about system structure. we thus discuss the basic functions of system startup and storage early in this chapter.  we also describe the basic computer architecture. the basic computer architecture makes it possible to write a functional operating system. an operating system is large and complex. an operating system must be created piece by piece . Each of these pieces should be a well-delineated portion of an operating system, with carefully defined inputs, outputs, and functions. In this chapter, we provide a general overview of the major components of a contemporary computer system as well as the functions provided by the operating system. Additionally, we cover several other topics to help set the stage for the remainder of this text: data structures used in operating systems, computing environments, and open-source operating systems. we begin we discussion by looking at the operating system’s role in the overall computer system. A computer system can be divided roughly into four components: the hardware, the operating system, the application programs, and the users (Figure 1. 1). The hardware —the central processing unit (CPU) and the input/output (I/O) devices —provides the basic computing resources for A computer system. The application programs —such as word processors, spreadsheets, compilers, and Web browsers— define the ways in which these resources are used to solve users’ computing problems. the operating system controls the hardware and coordinates the operating system use among the various application programs for the various users. We can also view a computer system as consisting of hardware and data. the operating system provides the means for proper use of these resources in the operation of the computer system. An operating system is similar to a government. Like a government, An operating system performs no useful function by An operating system. An operating system simply provides an environment within which other programs can do useful work. To understand more fully the operating system’s role, we next explore operating systems from two viewpoints: that of the user and that of the operating system. The user’s view of the computer varies according to the interface being used. Most computer users sit in front of a PC, consisting of a monitor, keyboard, mouse, and system unit. Such a system is designed for one user. to monopolize Such a system resources. The goal is to maximize the work (or play) that the user is performing. In this case with some attention paid to performance and none paid to resource utilization — how various hardware and software resources are shared. Performance is important to the user; but such systems are optimized for the single-user experience rather than the requirements of multiple users. In other cases, a user sits at a terminal connected to a mainframe or a minicomputer. Other users are accessing the same computer through other terminals. Other users share resources and may exchange information. The operating system in such cases is designed to maximize resource utilization— to assure that all available CPU time and I/O are used efficiently and that no individual user takes more than her fair share. In still other cases, users sit at workstations connected to networks of other workstations and servers. Other users have dedicated resources at Other users disposal, but Other users also share resources such as networking and servers, including file, compute, and print servers. Therefore, Other users operating system is designed to compromise between individual usability and resource utilization. Recently, many varieties of mobile computers, such as smartphones and tablets, have come into fashion. Most mobile computers are standalone units for individual users. Quite often, Most mobile computers are connected to networks through cellular or other wireless technologies. Increasingly, these mobile devices are replacing desktop and laptop computers for people who are primarily interested in using computers for e-mail and web browsing. The user interface for mobile computers generally features a touch screen, where the user interacts with the system by pressing and swiping fingers across the screen rather than using a. physical keyboard and mouse. Some computers have little or no user view. For example but Some computers and Some computers operating systems are designed primarily to run without user intervention. From the computer’s point of view, the system is the program most intimately involved with the hardware. In this context, we can view an operating system as a resource allocator.  A computer system has many resources. many resources may be required to solve a problem: CPU time, memory space, file-storage space, I/O devices, and so on. A computer system acts as the manager of many resources. Facing numerous and possibly conflicting requests for resources, A computer system must decide how to allocate numerous and possibly conflicting requests for resources to specific programs and users so that A computer system can operate A computer system efficiently and fairly. we have seen. resource allocation is especially important where many users access the same mainframe or minicomputer . A slightly different view of an operating system emphasizes the need to control the various I/O devices and user programs. An operating system is a control program. A control program manages the execution of user programs to prevent errors and improper use of the computer. It is especially concerned with the operation and control of I/O devices.'"
      ]
     },
     "execution_count": 27,
     "metadata": {},
     "output_type": "execute_result"
    }
   ],
   "source": [
    "doc._.coref_resolved"
   ]
  },
  {
   "cell_type": "code",
   "execution_count": 19,
   "metadata": {},
   "outputs": [
    {
     "data": {
      "text/plain": [
       "[An operating system: [An operating system, It],\n",
       " operating systems: [operating systems, they],\n",
       " we: [we, we, We, We],\n",
       " this chapter: [this chapter, this chapter],\n",
       " an operating system: [an operating system, it, the system],\n",
       " we: [we, we, We, our],\n",
       " the operating system: [the operating system, the operating system, The operating system, its, The operating system, the operating system, the system, the operating system],\n",
       " A computer system: [A computer system, the system],\n",
       " An operating system: [An operating system, it, itself, It],\n",
       " Such a system: [Such a system, its],\n",
       " Other users: [Other users, These users, These users, their, they, their],\n",
       " O: [O, her],\n",
       " Most mobile computers: [Most mobile computers, they],\n",
       " embedded computers in home devices and automobiles: [embedded computers in home devices and automobiles, they, their],\n",
       " the computer: [the computer, the computer],\n",
       " A computer system: [A computer system, The operating system, the operating system, it, the computer system],\n",
       " many resources that may be required to solve a problem: [many resources that may be required to solve a problem, these resources],\n",
       " numerous and possibly conflicting requests for resources: [numerous and possibly conflicting requests for resources, them]]"
      ]
     },
     "execution_count": 19,
     "metadata": {},
     "output_type": "execute_result"
    }
   ],
   "source": [
    "#coref resolution without processing the text\n",
    "f=open('os_chap1.txt','r')\n",
    "text=f.read()\n",
    "doc=nlp(text)\n",
    "doc._.coref_clusters"
   ]
  },
  {
   "cell_type": "code",
   "execution_count": 20,
   "metadata": {},
   "outputs": [
    {
     "data": {
      "text/plain": [
       "'An operating system is a program that manages a computer’s hardware. An operating system also provides a basis for application programs and acts as an intermediary between the computer user and the computer hardware. An amazing aspect of operating systems is how operating systems vary in accomplishing these tasks. Mainframe operating systems are designed primarily to optimize utilization of hardware. Personal computer (PC) operating systems support complex games, business applications, and everything in between. Operating systems for mobile com- puters provide an environment in which a user can easily interface with the computer to execute programs. Thus, some operating systems are designed to be convenient, others to be efficient, and others to be some combination of the two.\\nBefore we can explore the details of computer system operation, we need to know something about system structure. we thus discuss the basic functions of system startup, I/O, and storage early in this chapter.  we  also describe  the basic computer architecture that makes it possible to write a functional operating system.\\nBecause an operating system is large and complex, an operating system must be created piece by piece. Each of these pieces should be a well-delineated portion of an operating system, with carefully defined inputs, outputs, and functions. In this chapter, we provide a general overview of the major components of a contemporary computer system as well as the functions provided by the operating system. Additionally, we cover several other topics to help set the stage for the remainder of this text: data structures used in operating systems, computing environments, and open-source operating systems.\\nwe begin we discussion by looking at the operating system’s role in the overall computer system. A computer system can be divided roughly into four components: the hardware, the operating system, the application programs, and the users (Figure 1.1).\\nThe hardware —the central processing unit (CPU), the memory, and the input/output (I/O) devices —provides the basic computing resources for A computer system. The application programs —such as word processors, spreadsheets, compilers, and Web browsers— define the ways in which these resources are used to solve users’ computing problems. the operating system controls the hardware and coordinates the operating system use among the various application programs for the various users.\\nWe can also view a computer system as consisting of hardware, software, and data. the operating system provides the means for proper use of these resources in the operation of the computer system. An operating system is similar to a government. Like a government, An operating system performs no useful function by An operating system. An operating system simply provides an environment within which other programs can do useful work.\\nTo understand more fully the operating system’s role, we next explore operating systems from two viewpoints: that of the user and that of the operating system.\\n\\nThe user’s view of the computer varies according to the interface  being used. Most computer users sit in front of a PC, consisting of a monitor, keyboard, mouse, and system unit. Such a system is designed for one user\\n\\nto monopolize Such a system resources. The goal is to maximize the work (or play) that the user is performing. In this case, the operating system is designed mostly for ease of use, with some attention paid to performance and none paid       to resource utilization — how various hardware and software resources are shared. Performance is, of course, important to the user; but such  systems are optimized for the single-user experience rather than the requirements of multiple users.\\nIn other cases, a user sits at a terminal connected to a mainframe or a minicomputer. Other users are accessing the same computer through other terminals. Other users share resources and may exchange information. The operating system in such cases is designed to maximize resource utilization— to assure that all available CPU time, memory, and I/O are used efficiently and that no individual user takes more than O fair share.\\nIn still other cases, users sit at workstations connected to networks of other workstations and servers. Other users have dedicated resources at Other users disposal, but Other users also share resources such as networking and servers, including file, compute, and print servers. Therefore, Other users operating system is designed to compromise between individual usability and resource utilization. Recently, many varieties of mobile computers, such as smartphones and tablets, have come into fashion. Most mobile computers are standalone units for individual users. Quite often, Most mobile computers are connected to networks through cellular or other wireless technologies. Increasingly, these mobile devices are replacing desktop and laptop computers for people who are primarily interested in using computers for e-mail and web browsing. The user interface for mobile computers generally features a touch screen, where the user interacts with the system by pressing and swiping fingers across the screen rather than using a\\nphysical keyboard and mouse.\\nSome computers have little or no user view. For example, embedded computers in home devices and automobiles may have numeric keypads and may turn indicator lights on or off to show status, but embedded computers in home devices and automobiles and embedded computers in home devices and automobiles operating systems are designed primarily to run without user intervention.\\nFrom the computer’s point of view, the operating system is the program  most intimately involved with the hardware. In this context, we can  view  an operating system as a resource allocator. A computer system has many resources that may be required to solve a problem: CPU time, memory space, file-storage space, I/O devices, and so on. A computer system acts as the manager of many resources that may be required to solve a problem. Facing numerous and possibly conflicting requests for resources, A computer system must decide how to allocate numerous and possibly conflicting requests for resources to specific programs and users so that A computer system can operate A computer system efficiently and fairly. As we have seen, resource allocation is especially important where many users access the same mainframe or minicomputer.\\nA slightly different view of an operating system emphasizes the need to control the various I/O devices and user programs. An operating system is a control program. A control program manages the execution of user programs to prevent errors and improper use of the computer. It is especially concerned with the operation and control of I/O devices.\\n\\n'"
      ]
     },
     "execution_count": 20,
     "metadata": {},
     "output_type": "execute_result"
    }
   ],
   "source": [
    "doc._.coref_resolved"
   ]
  },
  {
   "cell_type": "markdown",
   "metadata": {},
   "source": [
    "# Resolving text containing 'it'"
   ]
  },
  {
   "cell_type": "code",
   "execution_count": 21,
   "metadata": {},
   "outputs": [],
   "source": [
    "#function to check whether a sentence containing 'it' \n",
    "def checkImpersonalVerb(sent):\n",
    "    i_verb=('raining','snowing','cloudy','Sunday','sunday','Monday','monday','Tuesday','tuesday','Wednesday','wednesday',\n",
    "            'Thursday','thursday','Friday','friday','Saturday','saturday','Sunday','sunday','clock','sunny')\n",
    "    words=sent.split()\n",
    "    for word in words:\n",
    "        if word in i_verb:  # if the sentence contains any of the above words, then we don't resolve such sentences\n",
    "            return True\n",
    "    return False"
   ]
  },
  {
   "cell_type": "code",
   "execution_count": 42,
   "metadata": {},
   "outputs": [],
   "source": [
    "def checkEmphasizer(sent):\n",
    "    words=sent.split(' ')\n",
    "    if words[0]=='It' and 'who' in words:\n",
    "        return True\n",
    "    return False"
   ]
  },
  {
   "cell_type": "code",
   "execution_count": 38,
   "metadata": {},
   "outputs": [],
   "source": [
    "def checkProvisionalSubject(sent):\n",
    "    words=sent.split(' ')\n",
    "    if 'to' in words:\n",
    "        return True\n",
    "    else:\n",
    "        return False"
   ]
  },
  {
   "cell_type": "code",
   "execution_count": 50,
   "metadata": {},
   "outputs": [],
   "source": [
    "def checkObj(sent):\n",
    "    objects=('baby','dog','cow','cat','horse','bottle','glass','meat','jar','box','meat','mug','milk')  #there can be more such words\n",
    "    words=sent.split()\n",
    "    for word in words:\n",
    "        if word in objects:  #if the previous sentence contain any of the above words, the 'it' has to be replaced with it\n",
    "            return word      #so return the word which will replace 'it'\n",
    "    return 'no'"
   ]
  },
  {
   "cell_type": "code",
   "execution_count": 54,
   "metadata": {},
   "outputs": [
    {
     "name": "stdout",
     "output_type": "stream",
     "text": [
      "I saw a baby crying.The baby must be hungry.\n"
     ]
    }
   ],
   "source": [
    "text='I saw a baby crying.It must be hungry' \n",
    "sentences=text.split('.')\n",
    "i=0                                          #used to traverse through the sentences\n",
    "new_text=''                                  #to store the new text after replacing 'it'\n",
    "for sent in sentences:                       #traversing throught the list of sentences\n",
    "    words=sent.split(' ')                    #splitting the sentence into words\n",
    "    new_sent=''                              #to store the new sentence if it contains 'it' by replacing it \n",
    "    \n",
    "    #An example of provosional subject: It is not easy to defeat him.\n",
    "    #We don't need to resolve such sentences\n",
    "    if sent!='' and words[0]=='It':          #check whether the first word of the sentence is 'it'\n",
    "        \n",
    "        if checkImpersonalVerb(sent):        #check if the sentence contain Impersonal verb\n",
    "            print('Impersonal verb,No need to resolve')      #e.g It is raining, It is 7 o'clock, It is Sunday\n",
    "            \n",
    "        if checkProvisionalSubject(sent):    #check if the sentence contains any provisional subject\n",
    "            print('Provisional subject,No need to resolve')      #if it contains any provisional subject then no need to resolve 'it'\n",
    "            \n",
    "        if checkEmphasizer(sent):            #check if the sentence is an emphasizer e.g It was Suzie who stole the bread\n",
    "            print('Emphasizer,No need to resolve')   #No need to resolve such sentences\n",
    "            \n",
    "            \n",
    "            \n",
    "        if checkObj(sentences[i-1])!='no':   #check if the previous sentence contains any reference to an animal or a baby\n",
    "            obj=checkObj(sentences[i-1])     #if it contains such reference then return that reference(animal/baby)\n",
    "            new_sent='The '+obj+' '+' '.join(word for word in words[1:])+'.'   #replacing it with the refernce to the animal/baby returned\n",
    "        \n",
    "        \n",
    "        else:\n",
    "            new_sent=' '.join(word for word in words)+'.'\n",
    "            \n",
    "            \n",
    "    elif sent!='':\n",
    "        new_sent=' '.join(word for word in words)+'.'   #otherwise keep the sentence as it is\n",
    "    #print(new_sent)\n",
    "    new_text=new_text+new_sent                          #add the new(or old if not changed) sentence to the original text\n",
    "    i=i+1\n",
    "print(new_text)"
   ]
  },
  {
   "cell_type": "code",
   "execution_count": null,
   "metadata": {},
   "outputs": [],
   "source": []
  }
 ],
 "metadata": {
  "kernelspec": {
   "display_name": "Python 3",
   "language": "python",
   "name": "python3"
  },
  "language_info": {
   "codemirror_mode": {
    "name": "ipython",
    "version": 3
   },
   "file_extension": ".py",
   "mimetype": "text/x-python",
   "name": "python",
   "nbconvert_exporter": "python",
   "pygments_lexer": "ipython3",
   "version": "3.7.6"
  }
 },
 "nbformat": 4,
 "nbformat_minor": 2
}
