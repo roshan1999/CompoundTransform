{
 "cells": [
  {
   "cell_type": "markdown",
   "metadata": {},
   "source": [
    "# Reading Data"
   ]
  },
  {
   "cell_type": "code",
   "execution_count": 95,
   "metadata": {},
   "outputs": [],
   "source": [
    "f=open('ComplexSentences.txt','r')\n",
    "text=f.read()"
   ]
  },
  {
   "cell_type": "markdown",
   "metadata": {},
   "source": [
    "# Function to break complex senences into simple sentences"
   ]
  },
  {
   "cell_type": "code",
   "execution_count": 96,
   "metadata": {},
   "outputs": [],
   "source": [
    "def checkComplex(sent):\n",
    "    #print(sent)\n",
    "    words=sent.split(' ')\n",
    "    #conjunctions that are usually found in a complex sentence\n",
    "    complex_conj1=['before','after','when','because','although','though','whenever','as','since','if','but','while','where','who','wherever','until','thus']\n",
    "    #conjunctions that usually occur toogether and are found in complex sentences\n",
    "    complex_conj2=['but when','even though','now that','so that']\n",
    "    new_sent=''                                                 #to store the simple sentences formed from complex sentences\n",
    "    \n",
    "    #we first break sentences containing 2nd type of conjuntions into simple sentences\n",
    "    for conj in complex_conj2:                  #loop to check each conjunction if it is present in the sentences\n",
    "        \n",
    "        if (sent.lower()).find(conj)>=0:\n",
    "            \n",
    "            if (sent.lower()).find(conj)==0:    #If the conjunction appears in the beginning then we split the sentence at the ','\n",
    "                broken_sent=sent.split(',')     #e.g Even though he had a lot of money, he was still unhappy\n",
    "                new_sent=((broken_sent[0].lower()).replace(conj,''))+'.'+'.'.join(b for b in broken_sent[1:])     #joining the broken sentences to form the new text\n",
    "                return new_sent                                 #return the new sentence formed\n",
    "            \n",
    "            else:                               #If the conjunction appears in the middle \n",
    "                broken_sent=sent.split(conj)    #then we split the sentence in the middle           \n",
    "                new_sent=(broken_sent[0].replace(',',''))+'. '+'.'.join(b for b in broken_sent[1:])      #joining the broke sentences to form a new text\n",
    "                return new_sent                                                 #returning the new text formed\n",
    "    \n",
    "    for conj in complex_conj1:                  #checking whether the sentence contains any of the conjunction in the first group\n",
    "        if words[0].lower()==conj:              #If the conjunction is the first word,\n",
    "            sent=' '.join(word for word in words[1:])    #then we remove the first word, i.e. the conjunction\n",
    "            broken_sent=sent.split(',')                  #Then we break the sentnce at the ','\n",
    "            new_sent=broken_sent[0]+'. '+'.'.join(b for b in broken_sent[1:])   #Then we join the broken senteces to form the new text\n",
    "            return new_sent                              #Returning the newly formed text from simple sentences\n",
    "        \n",
    "        else:                                  #else we check if the conjunction is in the middle of the sentence\n",
    "            flag=0                             #flag to check the above\n",
    "            for word in words:                 #checking each word of the sentence of it is a conjunction\n",
    "                if word==conj:                 #If it is a conjunciton,\n",
    "                    flag=1                     #then we set the flag\n",
    "                    break\n",
    "            if flag==1:                        #If the flag is set\n",
    "                broken_sent=sent.split(' '+conj+' ')    #Then we break the sentence into two parts at the conjunction\n",
    "                new_sent=(broken_sent[0].replace(',',''))+'. '+'.'.join(b for b in broken_sent[1:])   #and make a new text \n",
    "                return new_sent                                               #and then return it\n",
    "                \n",
    "        \n",
    "    if 'where' in words:                        #If the conjunction is 'where' and comes in the middle of the sentence\n",
    "        broken_sent=sent.split('where')         #Then we split the sentence at 'where'\n",
    "        new_sent=broken_sent[0]+'. There '+broken_sent[1]     #And append 'There' to the beginning of the 2nd boken part\n",
    "        return new_sent                                       #And return the new text thus formed\n",
    "    \n",
    "    if 'who' in words:                          #If the conjunction is 'who' and comes in the moddle of the sentence\n",
    "        broken_sent=sent.split('who')           #Then we split the sentence at 'who'\n",
    "        new_sent=broken_sent[0]+'. They '+broken_sent[1]    #And append 'they' to the 2nd part of the broken sentence\n",
    "        return new_sent                                     #And return the new text thus formed\n",
    "    \n",
    "    return sent                                 #If the sentence is not complex we return the sentence as it is"
   ]
  },
  {
   "cell_type": "code",
   "execution_count": 97,
   "metadata": {},
   "outputs": [],
   "source": [
    "#importing libraries to break a text into sentences\n",
    "from spacy.lang.en import English"
   ]
  },
  {
   "cell_type": "code",
   "execution_count": 98,
   "metadata": {},
   "outputs": [
    {
     "name": "stdout",
     "output_type": "stream",
     "text": [
      "Count: 75\n"
     ]
    }
   ],
   "source": [
    "#breaking a text into sentences\n",
    "nlp=English()\n",
    "nlp.add_pipe(nlp.create_pipe('sentencizer')) \n",
    "doc = nlp(text)\n",
    "sentences = [sent.string.strip() for sent in doc.sents]\n",
    "print('Count:',len(sentences))"
   ]
  },
  {
   "cell_type": "code",
   "execution_count": 99,
   "metadata": {
    "scrolled": true
   },
   "outputs": [
    {
     "name": "stdout",
     "output_type": "stream",
     "text": [
      "my coffee was too cold.  I heated it in the microwave.\n",
      "he was wealthy.  he was still unhappy.\n",
      "She returned the computer. she noticed it was damaged.\n",
      "prices goes up.  customers buy less products.\n",
      "I had to catch the train.  and as we were short on time. I forgot to pack my toothbrush for our vacation.\n",
      "she was bright and ambitious.  she became a manager in no time.\n",
      "you go.  you can always find beauty.\n",
      "Evergreen trees are a symbol of fertility. they do not die in the winter.\n",
      "it was very long.  the movie was still enjoyable.\n",
      "You should take your car in for a service. it's starting to make weird noises.\n",
      "The actor was happy he got a part in a movie .  the part was small.\n",
      "the tornado hit.  there was very  little left standing.\n",
      "The museum was very interesting. I expected.\n",
      " he's rich and famous. people make allowances for his idiosyncrasies.\n",
      " he's thoroughly trained. he still makes a lot of mistakes.\n",
      "Since winter is coming I think I'll knit a warm sweater. I'm always cold.\n",
      "she was younger.  she believed in fairy tales.\n",
      "I have to save this coupon in case I come back to the store tomorrow.\n",
      "Let's go back to Chez Nous. it's where we had our first date.\n",
      "my friends begged me.  I chose not to go to the reunion.\n",
      "genes change over time.  evolution progresses.\n",
      "I really didn't like the movie .  the acting was good.\n",
      "he got a creampie smashed in his face.  everyone laughed.\n",
      "being apart for years.  he still had feelings for her.\n",
      "Bobby was delighted he got a part in the school play .  the part was a small one.\n",
      "my porridge had gone cold.  I heated it in the microwave.\n",
      "lots of practise.  Josh still struggled to tie his shoelaces.\n",
      "Let's go back to the theatre. we watched the ballet.\n",
      "the storm hit the town.  trees lay broken in the streets.\n",
      "my friends begged me.  I chose not to go to the reunion.\n",
      "I learned English perfectly. I studied very hard.\n",
      "Many people enjoyed the movie; however Alex did not.\n",
      "the farmer is ready.  the ground is still too wet to plow.\n",
      "the ozone layer collapses.  the global community will suffer.\n",
      "Although I am not very good. I really enjoy playing football.\n",
      "I'd like to see the North pole. I will never go where it is that cold!\n",
      "he did not know the route well.  he drove slowly.\n",
      "Walking through the wood, he saw a fox that was following him.\n",
      "Uncle Samuel comes to town.  we all have a good time.\n",
      "he handed in the homework.  he forgot to give the teacher the last page.\n",
      "The teacher returned the homework. she noticed the error.\n",
      "The students are studying. they have a test tomorrow.\n",
      "they finished studying.  Emily and Lily went to the movies.\n",
      "Grace and Jackie went to the movies. they finished cleaning the house.\n",
      "He spoke so well that everyone was pleased.\n",
      "At some point, that stopped bugging her and became an attraction.\n",
      "He stopped and picked up a bird's nest that had fallen upon the ground.\n",
      "It is with a kind of fear that I begin to write the history of my life.\n",
      "Here and there were groups of houses that seemed made of clear glass. they sparkled so brightly.\n",
      "Alex came home that evening.  Carmen told him about it.\n",
      "Denise had some doubts.  she found the courses very useful.\n",
      "Computer have come a long way. they first come in the market.\n",
      "The president chose people. would help him make good decisions.\n",
      "the food arrived.  the children ate everything.\n",
      "Whoever signs the lease is responsible for the rent.\n",
      "I didn't go to the store. I already had chips and salsa at home.\n",
      " i was nervous about the date. I had a really great time after we started talking.\n",
      "I cooked dinner. I didn't set the table.\n",
      "Jada was afraid.  she gathered her courage and she opened the door.\n",
      "Because the bridge wasn't properly maintained by the government. it fell down.\n",
      "he ate a really big dinner.  now he wants to eat cake for the desert.\n",
      "they eat at this restaurant.  they order a hamburger and fries.\n",
      "He will be able to maintain a healthy weight. he keeps exercising.\n",
      "the world is getting warmer.  polar bears are in danger of becoming extinct.\n",
      "The human brain stops working. you stand up to speak in public.\n",
      " she suffered from arthritis. she studied hard because she wanted to go to medical school in London.\n",
      "Because Alex and Michael arrived at the bus station. noon, I did not see them at the station.\n",
      "the bell rang.  the children packed up. and the teacher collected their work.\n",
      "A single-tasking system can only run one program at a time. a multi-tasking operating system allows more than one program to be running in concurrency.\n",
      "This is achieved by time-sharing. the available processor time is divided between multiple processes.\n",
      "computers in a group work in cooperation. they form a distributed system.\n",
      "A real-time operating system is an operating system that guarantees to process events or data by a specific moment in time.\n",
      "A real-time operating system may be single- or multi-tasking.  multitasking, it uses specialized scheduling algorithms so that a deterministic nature of behavior is achieved.\n",
      "With the aid of the firmware and device drivers,the kernel provides the most basic level of control over all of the computer's hardware devices.\n",
      "The operating system provides an interface between an application program and the computer hardware .  an application program can interact with the hardware only by obeying rules and procedures programmed into the operating system.\n",
      "India won the tournamentdefeating Sri Lanka by 6 wickets in the final at Wankhede Stadium in Mumbai. becoming the first country to win the Cricket World Cup final on home soil.\n",
      "\n"
     ]
    }
   ],
   "source": [
    "#passing each sentences to check if it complex and if it is complex decomposing it into simple sentences\n",
    "for sent in sentences:\n",
    "    print(checkComplex(sent))"
   ]
  },
  {
   "cell_type": "code",
   "execution_count": 100,
   "metadata": {
    "scrolled": false
   },
   "outputs": [],
   "source": [
    "new_text=''\n",
    "for i in range(5):\n",
    "    doc = nlp(text)\n",
    "    sentences = [sent.string.strip() for sent in doc.sents]\n",
    "    for sent in sentences:\n",
    "        #print(checkComplex(sent))\n",
    "        new_text=new_text+checkComplex(sent)\n",
    "    text=new_text\n",
    "    new_text=''\n",
    "#print(text)"
   ]
  },
  {
   "cell_type": "code",
   "execution_count": 101,
   "metadata": {},
   "outputs": [
    {
     "name": "stdout",
     "output_type": "stream",
     "text": [
      "my coffee was too cold.I heated it in the microwave.he was wealthy.he was still unhappy.She returned the computer.she noticed it was damaged.prices goes up.customers buy less products.I had to catch the train.and.we were short on time.I forgot to pack my toothbrush for our vacation.she was bright and ambitious.she became a manager in no time.you go.you can always find beauty.Evergreen trees are a symbol of fertility.they do not die in the winter.it was very long.the movie was still enjoyable.You should take your car in for a service.it's starting to make weird noises.The actor was happy he got a part in a movie .the part was small.the tornado hit.there was very  little left standing.The museum was very interesting.I expected.he's rich and famous.people make allowances for his idiosyncrasies.he's thoroughly trained.he still makes a lot of mistakes.winter is coming I think I'll knit a warm sweater.. I'm always cold.she was younger.she believed in fairy tales.I have to save this coupon in case I come back to the store tomorrow.Let's go back to Chez Nous.it's.we had our first date.my friends begged me.I chose not to go to the reunion.genes change over time.evolution progresses.I really didn't like the movie .the acting was good.he got a creampie smashed in his face.everyone laughed.being apart for years.he still had feelings for her.Bobby was delighted he got a part in the school play .the part was a small one.my porridge had gone cold.I heated it in the microwave.lots of practise.Josh still struggled to tie his shoelaces.Let's go back to the theatre.we watched the ballet.the storm hit the town.trees lay broken in the streets.my friends begged me.I chose not to go to the reunion.I learned English perfectly.I studied very hard.Many people enjoyed the movie; however Alex did not.the farmer is ready.the ground is still too wet to plow.the ozone layer collapses.the global community will suffer.I am not very good.. I really enjoy playing football.I'd like to see the North pole.I will never go.it is that cold!he did not know the route well.he drove slowly.Walking through the wood, he saw a fox that was following him.Uncle Samuel comes to town.we all have a good time.he handed in the homework.he forgot to give the teacher the last page.The teacher returned the homework.she noticed the error.The students are studying.they have a test tomorrow.they finished studying.Emily and Lily went to the movies.Grace and Jackie went to the movies.they finished cleaning the house.He spoke so well that everyone was pleased.At some point, that stopped bugging her and became an attraction.He stopped and picked up a bird's nest that had fallen upon the ground.It is with a kind of fear that I begin to write the history of my life.Here and there were groups of houses that seemed made of clear glass.they sparkled so brightly.Alex came home that evening.Carmen told him about it.Denise had some doubts.she found the courses very useful.Computer have come a long way.they first come in the market.The president chose people.would help him make good decisions.the food arrived.the children ate everything.Whoever signs the lease is responsible for the rent.I didn't go to the store.I already had chips and salsa at home.i was nervous about the date.I had a really great time.we started talking.I cooked dinner.I didn't set the table.Jada was afraid.she gathered her courage and she opened the door.the bridge wasn't properly maintained by the government.. it fell down.he ate a really big dinner.now he wants to eat cake for the desert.they eat at this restaurant.they order a hamburger and fries.He will be able to maintain a healthy weight.he keeps exercising.the world is getting warmer.polar bears are in danger of becoming extinct.The human brain stops working.you stand up to speak in public.she suffered from arthritis.she studied hard.she wanted to go to medical school in London.Alex and Michael arrived at the bus station.. noon, I did not see them at the station.the bell rang.the children packed up.and the teacher collected their work.A single-tasking system can only run one program at a time.a multi-tasking operating system allows more than one program to be running in concurrency.This is achieved by time-sharing.the available processor time is divided between multiple processes.computers in a group work in cooperation.they form a distributed system.A real-time operating system is an operating system that guarantees to process events or data by a specific moment in time.A real-time operating system may be single- or multi-tasking.multitasking it uses specialized scheduling algorithms .a deterministic nature of behavior is achieved.With the aid of the firmware and device drivers,the kernel provides the most basic level of control over all of the computer's hardware devices.The operating system provides an interface between an application program and the computer hardware .an application program can interact with the hardware only by obeying rules and procedures programmed into the operating system.India won the tournamentdefeating Sri Lanka by 6 wickets in the final at Wankhede Stadium in Mumbai.becoming the first country to win the Cricket World Cup final on home soil.\n"
     ]
    }
   ],
   "source": [
    "print(text)"
   ]
  },
  {
   "cell_type": "markdown",
   "metadata": {},
   "source": [
    "# Sentences requiring the change of tense after being broken to make them complete"
   ]
  },
  {
   "cell_type": "code",
   "execution_count": 102,
   "metadata": {},
   "outputs": [],
   "source": [
    "past_tense={'defeating':'defeated','becoming':'became'}"
   ]
  },
  {
   "cell_type": "code",
   "execution_count": 108,
   "metadata": {},
   "outputs": [],
   "source": [
    "import spacy\n",
    "import en_core_web_sm\n",
    "nlp = spacy.load('en_core_web_sm')"
   ]
  },
  {
   "cell_type": "code",
   "execution_count": 143,
   "metadata": {},
   "outputs": [],
   "source": [
    "from spacy.symbols import nsubj,VERB\n",
    "def checkComma(sent):\n",
    "    sent=sent.replace('.','')\n",
    "    sentences=sent.split(',')\n",
    "    new_sent=''\n",
    "    j=0\n",
    "    for sentence in sentences:\n",
    "        text=nlp(sentence)\n",
    "        subjects=list(text.noun_chunks)\n",
    "        \n",
    "        if j==0:\n",
    "            main_sub=str(subjects[0])\n",
    "        i=0\n",
    "        for word in text:\n",
    "            if i==0 and (word.text).lower() in ['thus','and']:\n",
    "                continue\n",
    "            if i==0 and word.pos==VERB:\n",
    "                new_sent=new_sent+main_sub+' '+past_tense[word.text]\n",
    "            else:\n",
    "                new_sent=new_sent+' '+word.text\n",
    "            i=i+1\n",
    "        new_sent=new_sent+'. '\n",
    "        j=j+1\n",
    "    return new_sent"
   ]
  },
  {
   "cell_type": "code",
   "execution_count": 144,
   "metadata": {
    "scrolled": true
   },
   "outputs": [
    {
     "name": "stdout",
     "output_type": "stream",
     "text": [
      " India won the tournament. India defeated Sri Lanka by 6 wickets in the final at Wankhede Stadium in Mumbai. India became the first country to win the Cricket World Cup final on home soil. \n"
     ]
    }
   ],
   "source": [
    "s1=checkComma('India won the tournament,defeating Sri Lanka by 6 wickets in the final at Wankhede Stadium in Mumbai,thus becoming the first country to win the Cricket World Cup final on home soil.')\n",
    "print(s1)"
   ]
  },
  {
   "cell_type": "code",
   "execution_count": null,
   "metadata": {},
   "outputs": [],
   "source": []
  }
 ],
 "metadata": {
  "kernelspec": {
   "display_name": "Python 3",
   "language": "python",
   "name": "python3"
  },
  "language_info": {
   "codemirror_mode": {
    "name": "ipython",
    "version": 3
   },
   "file_extension": ".py",
   "mimetype": "text/x-python",
   "name": "python",
   "nbconvert_exporter": "python",
   "pygments_lexer": "ipython3",
   "version": "3.7.6"
  }
 },
 "nbformat": 4,
 "nbformat_minor": 2
}
