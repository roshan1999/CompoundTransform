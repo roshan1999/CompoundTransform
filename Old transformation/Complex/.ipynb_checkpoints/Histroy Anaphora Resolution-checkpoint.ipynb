{
 "cells": [
  {
   "cell_type": "code",
   "execution_count": 1,
   "metadata": {},
   "outputs": [],
   "source": [
    "import spacy\n",
    "import en_core_web_sm\n",
    "nlp = spacy.load('en_core_web_sm')"
   ]
  },
  {
   "cell_type": "code",
   "execution_count": 2,
   "metadata": {},
   "outputs": [],
   "source": [
    "import neuralcoref\n",
    "coref = neuralcoref.NeuralCoref(nlp.vocab)\n",
    "nlp.add_pipe(coref, name='neuralcoref')"
   ]
  },
  {
   "cell_type": "code",
   "execution_count": 113,
   "metadata": {},
   "outputs": [],
   "source": [
    "#Reading the text\n",
    "import string\n",
    "f=open('data_3_chap_para.txt','r')\n",
    "text=f.read()"
   ]
  },
  {
   "cell_type": "code",
   "execution_count": 126,
   "metadata": {},
   "outputs": [],
   "source": [
    "#splitting into paragraphs\n",
    "paras=text.split('\\n')"
   ]
  },
  {
   "cell_type": "code",
   "execution_count": 116,
   "metadata": {},
   "outputs": [
    {
     "name": "stdout",
     "output_type": "stream",
     "text": [
      "After the Tughluqs, the Sayyid and Lodi dynasties ruled from Delhi and Agra. By then, Jaunpur, Bengal, Malwa, Gujarat, Rajasthan and the entire south India had independent rulers who established flourishing states and prosperous capitals. This was also the period which saw the emergence of new ruling groups like the Afghans and the Rajputs.Some of the states established in this period were small but powerful and extremely well administered. Sher Shah Sur  started his career as the manager of a small territory for his uncle in Bihar and eventually challenged and defeated the Mughal emperor Humayun. Sher Shah captured Delhi and established his own dynasty. Although the Suri dynasty ruled for only fifteen years, it introduced an administration that borrowed elements from Alauddin Khalji and made them more efficient. Sher Shah’s administration became the model followed by the great emperor Akbar   when he consolidated the Mughal Empire.\n"
     ]
    }
   ],
   "source": [
    "doc=nlp(paras[-2])\n",
    "print(paras[-2])"
   ]
  },
  {
   "cell_type": "code",
   "execution_count": 117,
   "metadata": {},
   "outputs": [
    {
     "data": {
      "text/plain": [
       "[Delhi: [Delhi, Delhi],\n",
       " Sher Shah Sur  : [Sher Shah Sur  , his, his, Sher Shah, his],\n",
       " the Mughal emperor Humayun: [the Mughal emperor Humayun, the great emperor Akbar   ],\n",
       " the Suri dynasty: [the Suri dynasty, it],\n",
       " Sher Shah’s administration: [Sher Shah’s administration, he]]"
      ]
     },
     "execution_count": 117,
     "metadata": {},
     "output_type": "execute_result"
    }
   ],
   "source": [
    "doc._.coref_clusters"
   ]
  },
  {
   "cell_type": "code",
   "execution_count": 70,
   "metadata": {},
   "outputs": [
    {
     "data": {
      "text/plain": [
       "[the Suri dynasty: [the Suri dynasty, it],\n",
       " Sher Shah’s administration: [Sher Shah’s administration, he]]"
      ]
     },
     "execution_count": 70,
     "metadata": {},
     "output_type": "execute_result"
    }
   ],
   "source": [
    "doc=nlp(u' Although the Suri dynasty ruled for only fifteen years, it introduced an administration that borrowed elements from Alauddin Khalji and made them more efficient. Sher Shah’s administration became the model followed by the great emperor Akbar   when he consolidated the Mughal Empire.')\n",
    "doc._.coref_clusters"
   ]
  },
  {
   "cell_type": "code",
   "execution_count": 123,
   "metadata": {},
   "outputs": [
    {
     "data": {
      "text/plain": [
       "<spacy.lang.en.English at 0x17c14d28390>"
      ]
     },
     "execution_count": 123,
     "metadata": {},
     "output_type": "execute_result"
    }
   ],
   "source": [
    "nlp.remove_pipe(\"neuralcoref\")\n",
    "neuralcoref.add_to_pipe(nlp, conv_dict={'Akbar': ['Mughal','empire','Mughal Empire','man','emperor','ruler']})"
   ]
  },
  {
   "cell_type": "code",
   "execution_count": 124,
   "metadata": {},
   "outputs": [
    {
     "data": {
      "text/plain": [
       "<spacy.lang.en.English at 0x17c14d28390>"
      ]
     },
     "execution_count": 124,
     "metadata": {},
     "output_type": "execute_result"
    }
   ],
   "source": [
    "nlp.remove_pipe(\"neuralcoref\")\n",
    "neuralcoref.add_to_pipe(nlp, conv_dict={'Sher Shah': ['Suri','man']})"
   ]
  },
  {
   "cell_type": "code",
   "execution_count": 125,
   "metadata": {},
   "outputs": [
    {
     "data": {
      "text/plain": [
       "[the Suri dynasty: [the Suri dynasty, it],\n",
       " Sher Shah’s administration: [Sher Shah’s administration, he]]"
      ]
     },
     "execution_count": 125,
     "metadata": {},
     "output_type": "execute_result"
    }
   ],
   "source": [
    "doc=nlp(u' Although the Suri dynasty ruled for only fifteen years, it introduced an administration that borrowed elements from Alauddin Khalji and made them more efficient. Sher Shah’s administration became the model followed by the great emperor Akbar when he consolidated the Mughal Empire')\n",
    "doc._.coref_clusters"
   ]
  },
  {
   "cell_type": "code",
   "execution_count": 64,
   "metadata": {},
   "outputs": [],
   "source": [
    "nlp.get_pipe('neuralcoref').set_conv_dict({'Raziyya': ['daughter','person','woman','queen']})"
   ]
  },
  {
   "cell_type": "code",
   "execution_count": 65,
   "metadata": {},
   "outputs": [],
   "source": [
    "nlp.get_pipe('neuralcoref').set_conv_dict({'Mihnaj-i-Siraj': ['chronicler of the age','man']})"
   ]
  },
  {
   "cell_type": "code",
   "execution_count": 127,
   "metadata": {},
   "outputs": [
    {
     "data": {
      "text/plain": [
       "[Sultan Iltutmish’s daughter, Raziyya: [Sultan Iltutmish’s daughter, Raziyya, she, her]]"
      ]
     },
     "execution_count": 127,
     "metadata": {},
     "output_type": "execute_result"
    }
   ],
   "source": [
    "doc=nlp(u'Sultan Iltutmish’s daughter, Raziyya, became Sultan.The chronicler of the age, Minhaj-i Siraj, recognised that she was more able and qualified than all her brothers.')\n",
    "doc._.coref_clusters"
   ]
  },
  {
   "cell_type": "code",
   "execution_count": 136,
   "metadata": {},
   "outputs": [
    {
     "name": "stdout",
     "output_type": "stream",
     "text": [
      "As the Delhi Sultans brought the hinterland of the cities under their control, they forced the landed chieftains — the samanta aristocrats — and rich landlords to accept their authority.Under Alauddin Khalji the state brought the assessment and collection of land revenue under its own control.The rights of the local chieftains to levy taxes were cancelled and they were also forced to pay taxes.The Sultan’s administrators measured the land and kept careful accounts.Some of the old chieftains and landlords served the Sultanate as revenue collectors and assessors.There were three types of taxes – (1) on cultivation called kharaj and amounting to about 50 per cent of the peasant’s produce, (2) on cattle and (3) on houses.\n"
     ]
    },
    {
     "data": {
      "text/plain": [
       "[their: [their, they, their],\n",
       " the state: [the state, its],\n",
       " The rights of the local chieftains to levy taxes: [The rights of the local chieftains to levy taxes, they]]"
      ]
     },
     "execution_count": 136,
     "metadata": {},
     "output_type": "execute_result"
    }
   ],
   "source": [
    "doc=nlp(paras[-6])\n",
    "print(paras[-6])\n",
    "doc._.coref_clusters"
   ]
  },
  {
   "cell_type": "code",
   "execution_count": 145,
   "metadata": {},
   "outputs": [
    {
     "data": {
      "text/plain": [
       "[The rights of the local chieftains to levy taxes: [The rights of the local chieftains to levy taxes, they]]"
      ]
     },
     "execution_count": 145,
     "metadata": {},
     "output_type": "execute_result"
    }
   ],
   "source": [
    "text='The rights of the local chieftains to levy taxes were cancelled and they were also forced to pay taxes.'\n",
    "doc=nlp(text)\n",
    "doc._.coref_clusters"
   ]
  },
  {
   "cell_type": "code",
   "execution_count": 151,
   "metadata": {},
   "outputs": [
    {
     "data": {
      "text/plain": [
       "[The local chieftians: [The local chieftians, They]]"
      ]
     },
     "execution_count": 151,
     "metadata": {},
     "output_type": "execute_result"
    }
   ],
   "source": [
    "#changing into passive voice\n",
    "text='The local chieftians had rights to levy taxes were cancelled. They were also forced to pay taxes.'\n",
    "doc=nlp(text)\n",
    "doc._.coref_clusters"
   ]
  },
  {
   "cell_type": "code",
   "execution_count": 152,
   "metadata": {},
   "outputs": [
    {
     "name": "stdout",
     "output_type": "stream",
     "text": [
      "Like the earlier Sultans, the Khalji and Tughluq monarchs appointed military commanders as governors of territories of varying sizes.These lands were called iqta and their holder was called iqtadar or muqti.The duty of the muqtis was to lead military campaigns and maintain law and order in their iqtas.In exchange for their military services, the muqtis collected the revenues of their assignments as salary.They also paid their soldiers from these revenues.Control over muqtis was most effective if their office was not inheritable and if they were assigned iqtas for a short period of time before being shifted.These harsh conditions of service were rigorously imposed during the reigns of Alauddin Khalji and Muhammad Tughluq.Accountants were appointed by the state to check the amount of revenue collected by the muqtis.Care was taken that the muqti collected only the taxes prescribed by the state and that he kept the required number of soldiers.\n"
     ]
    },
    {
     "data": {
      "text/plain": [
       "[These lands: [These lands, their],\n",
       " the muqtis: [the muqtis, the muqtis, the muqtis],\n",
       " military campaigns: [military campaigns, their, their, their, They, their, their, they],\n",
       " the revenues of their assignments: [the revenues of their assignments, these revenues],\n",
       " the state: [the state, the state]]"
      ]
     },
     "execution_count": 152,
     "metadata": {},
     "output_type": "execute_result"
    }
   ],
   "source": [
    "doc=nlp(paras[-7])\n",
    "print(paras[-7])\n",
    "doc._.coref_clusters"
   ]
  },
  {
   "cell_type": "markdown",
   "metadata": {},
   "source": [
    "# Resolving sentences beginning with 'Because' and 'As'"
   ]
  },
  {
   "cell_type": "code",
   "execution_count": 111,
   "metadata": {},
   "outputs": [
    {
     "data": {
      "text/plain": [
       "[my coffee was cold: [my coffee was cold, it]]"
      ]
     },
     "execution_count": 111,
     "metadata": {},
     "output_type": "execute_result"
    }
   ],
   "source": [
    "doc=nlp(u'Because my coffee was too cold, I heated it in the microwave.')\n",
    "doc._.coref_clusters"
   ]
  },
  {
   "cell_type": "code",
   "execution_count": 139,
   "metadata": {},
   "outputs": [],
   "source": [
    "#function to remove because\n",
    "def remBecause(sent):\n",
    "    words=sent.split()\n",
    "    sent=\"\"\n",
    "    for word in words:\n",
    "        if word!='Because' and word!='As':\n",
    "            sent=sent+word+\" \"\n",
    "    #print(sent)\n",
    "    text=''\n",
    "    for word in sent:\n",
    "        #print(word)\n",
    "         if word==',':\n",
    "             text=text+'.'\n",
    "         else:\n",
    "             text=text+word\n",
    "    #print(text)\n",
    "    return text"
   ]
  },
  {
   "cell_type": "code",
   "execution_count": 87,
   "metadata": {},
   "outputs": [
    {
     "name": "stdout",
     "output_type": "stream",
     "text": [
      "['Because', 'my', 'coffee', 'was', 'too', 'cold,', 'I', 'heated', 'it', 'in', 'the', 'microwave.']\n"
     ]
    }
   ],
   "source": [
    "text='Because my coffee was too cold, I heated it in the microwave. ' \n",
    "words=text.split()\n",
    "print(words)"
   ]
  },
  {
   "cell_type": "code",
   "execution_count": 89,
   "metadata": {},
   "outputs": [
    {
     "name": "stdout",
     "output_type": "stream",
     "text": [
      "my coffee was too cold. I heated it in the microwave. \n"
     ]
    },
    {
     "data": {
      "text/plain": [
       "[my coffee: [my coffee, it]]"
      ]
     },
     "execution_count": 89,
     "metadata": {},
     "output_type": "execute_result"
    }
   ],
   "source": [
    "newtext=\"\"\n",
    "if words[0]=='Because':\n",
    "    newtext=remBecause(text)\n",
    "print(newtext)\n",
    "doc=nlp(newtext)\n",
    "doc._.coref_clusters"
   ]
  },
  {
   "cell_type": "code",
   "execution_count": 143,
   "metadata": {},
   "outputs": [
    {
     "data": {
      "text/plain": [
       "[their: [their, they, their]]"
      ]
     },
     "execution_count": 143,
     "metadata": {},
     "output_type": "execute_result"
    }
   ],
   "source": [
    "#Another example with 'As'\n",
    "text='As the Delhi Sultans brought the hinterland of the cities under their control, they forced the landed chieftains — the samanta aristocrats — and rich landlords to accept their authority.'\n",
    "doc=nlp(text)\n",
    "doc._.coref_clusters"
   ]
  },
  {
   "cell_type": "code",
   "execution_count": 144,
   "metadata": {},
   "outputs": [
    {
     "data": {
      "text/plain": [
       "[the Delhi Sultans: [the Delhi Sultans, their, they, their]]"
      ]
     },
     "execution_count": 144,
     "metadata": {},
     "output_type": "execute_result"
    }
   ],
   "source": [
    "text=remBecause(text)\n",
    "doc=nlp(text)\n",
    "doc._.coref_clusters"
   ]
  },
  {
   "cell_type": "code",
   "execution_count": 154,
   "metadata": {},
   "outputs": [
    {
     "data": {
      "text/plain": [
       "[the robbers: [the robbers, they, their]]"
      ]
     },
     "execution_count": 154,
     "metadata": {},
     "output_type": "execute_result"
    }
   ],
   "source": [
    "text='As the robbers entered the house, they forced the family members to raise their hands.'\n",
    "doc=nlp(text)\n",
    "doc._.coref_clusters"
   ]
  },
  {
   "cell_type": "code",
   "execution_count": 155,
   "metadata": {},
   "outputs": [
    {
     "data": {
      "text/plain": [
       "[Neha: [Neha, him, She, him]]"
      ]
     },
     "execution_count": 155,
     "metadata": {},
     "output_type": "execute_result"
    }
   ],
   "source": [
    "#Another example\n",
    "text='Neha was angry with him. She did not talk to him.'\n",
    "doc=nlp(text)\n",
    "doc._.coref_clusters"
   ]
  },
  {
   "cell_type": "code",
   "execution_count": 94,
   "metadata": {},
   "outputs": [
    {
     "data": {
      "text/plain": [
       "<spacy.lang.en.English at 0x17c14d28390>"
      ]
     },
     "execution_count": 94,
     "metadata": {},
     "output_type": "execute_result"
    }
   ],
   "source": [
    "nlp.remove_pipe(\"neuralcoref\")\n",
    "neuralcoref.add_to_pipe(nlp, conv_dict={'Neha': ['girl','woman']})"
   ]
  },
  {
   "cell_type": "code",
   "execution_count": 96,
   "metadata": {},
   "outputs": [
    {
     "data": {
      "text/plain": [
       "[Neha: [Neha, she], him: [him, him]]"
      ]
     },
     "execution_count": 96,
     "metadata": {},
     "output_type": "execute_result"
    }
   ],
   "source": [
    "doc=nlp(u'Neha was angry with him. she did not talk to him.')\n",
    "doc._.coref_clusters"
   ]
  },
  {
   "cell_type": "code",
   "execution_count": 97,
   "metadata": {},
   "outputs": [
    {
     "data": {
      "text/plain": [
       "[we: [we, our]]"
      ]
     },
     "execution_count": 97,
     "metadata": {},
     "output_type": "execute_result"
    }
   ],
   "source": [
    "#Another example\n",
    "text='Because I had to catch the train, and as we were short on time, I forgot to pack my toothbrush for our vacation.'\n",
    "doc=nlp(text)\n",
    "doc._.coref_clusters"
   ]
  },
  {
   "cell_type": "code",
   "execution_count": 107,
   "metadata": {},
   "outputs": [
    {
     "data": {
      "text/plain": [
       "<spacy.lang.en.English at 0x17c14d28390>"
      ]
     },
     "execution_count": 107,
     "metadata": {},
     "output_type": "execute_result"
    }
   ],
   "source": [
    "nlp.remove_pipe(\"neuralcoref\")\n",
    "neuralcoref.add_to_pipe(nlp, conv_dict={'I': ['I','i','my']})"
   ]
  },
  {
   "cell_type": "code",
   "execution_count": 108,
   "metadata": {},
   "outputs": [
    {
     "data": {
      "text/plain": [
       "[we: [we, our]]"
      ]
     },
     "execution_count": 108,
     "metadata": {},
     "output_type": "execute_result"
    }
   ],
   "source": [
    "text='I had to catch a train. we were short on time. I forgot to pack my toothbrush for our vacation.'\n",
    "doc=nlp(text)\n",
    "doc._.coref_clusters"
   ]
  },
  {
   "cell_type": "code",
   "execution_count": 112,
   "metadata": {},
   "outputs": [
    {
     "data": {
      "text/plain": [
       "[my train: [my train, it]]"
      ]
     },
     "execution_count": 112,
     "metadata": {},
     "output_type": "execute_result"
    }
   ],
   "source": [
    "#Another example\n",
    "text='Because my train was late, I waited for it on the platform.'\n",
    "doc=nlp(text)\n",
    "doc._.coref_clusters"
   ]
  },
  {
   "cell_type": "code",
   "execution_count": 6,
   "metadata": {},
   "outputs": [
    {
     "data": {
      "text/plain": [
       "[Map1: [Map1, Map1], They: [They, they]]"
      ]
     },
     "execution_count": 6,
     "metadata": {},
     "output_type": "execute_result"
    }
   ],
   "source": [
    "#Another example\n",
    "text='Take a look at Map1 and Map2. Map1 was made in 1154 CE by the Arab geographer al-Idrisi. The section produced here is a detail of the Indian subcontinent from his larger map of the world. Map2 was made in the 1720s by a French cartographer. They are quite different even though they are of the same area.'\n",
    "doc=nlp(text)\n",
    "doc._.coref_clusters"
   ]
  },
  {
   "cell_type": "code",
   "execution_count": 13,
   "metadata": {},
   "outputs": [
    {
     "data": {
      "text/plain": [
       "[big landlords or warrior chiefs: [big landlords or warrior chiefs, them, their]]"
      ]
     },
     "execution_count": 13,
     "metadata": {},
     "output_type": "execute_result"
    }
   ],
   "source": [
    "text='By the seventh century there were big landlords or warrior chiefs in different regions of the subcontinent. Existing kings often acknowledged them as their subordinates or samantas. '\n",
    "doc=nlp(text)\n",
    "doc._.coref_clusters"
   ]
  },
  {
   "cell_type": "code",
   "execution_count": 11,
   "metadata": {},
   "outputs": [
    {
     "data": {
      "text/plain": [
       "[big landlords or warrior chiefs: [big landlords or warrior chiefs, them, their]]"
      ]
     },
     "execution_count": 11,
     "metadata": {},
     "output_type": "execute_result"
    }
   ],
   "source": [
    "text='By the seventh century there were big landlords or warrior chiefs in different regions of the subcontinent. Existing kings often acknowledged them for their hard work. '\n",
    "doc=nlp(text)\n",
    "doc._.coref_clusters"
   ]
  },
  {
   "cell_type": "code",
   "execution_count": null,
   "metadata": {},
   "outputs": [],
   "source": []
  }
 ],
 "metadata": {
  "kernelspec": {
   "display_name": "Python 3",
   "language": "python",
   "name": "python3"
  },
  "language_info": {
   "codemirror_mode": {
    "name": "ipython",
    "version": 3
   },
   "file_extension": ".py",
   "mimetype": "text/x-python",
   "name": "python",
   "nbconvert_exporter": "python",
   "pygments_lexer": "ipython3",
   "version": "3.7.6"
  }
 },
 "nbformat": 4,
 "nbformat_minor": 2
}
